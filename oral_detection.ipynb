{
 "cells": [
  {
   "cell_type": "code",
   "execution_count": 3,
   "id": "5e9ae7c6-ce99-4610-9246-457a80a5a90c",
   "metadata": {},
   "outputs": [
    {
     "name": "stdout",
     "output_type": "stream",
     "text": [
      "Collecting tensorflow\n",
      "  Downloading tensorflow-2.19.0-cp312-cp312-win_amd64.whl.metadata (4.1 kB)\n",
      "Collecting absl-py>=1.0.0 (from tensorflow)\n",
      "  Downloading absl_py-2.3.0-py3-none-any.whl.metadata (2.4 kB)\n",
      "Collecting astunparse>=1.6.0 (from tensorflow)\n",
      "  Downloading astunparse-1.6.3-py2.py3-none-any.whl.metadata (4.4 kB)\n",
      "Collecting flatbuffers>=24.3.25 (from tensorflow)\n",
      "  Downloading flatbuffers-25.2.10-py2.py3-none-any.whl.metadata (875 bytes)\n",
      "Collecting gast!=0.5.0,!=0.5.1,!=0.5.2,>=0.2.1 (from tensorflow)\n",
      "  Downloading gast-0.6.0-py3-none-any.whl.metadata (1.3 kB)\n",
      "Collecting google-pasta>=0.1.1 (from tensorflow)\n",
      "  Downloading google_pasta-0.2.0-py3-none-any.whl.metadata (814 bytes)\n",
      "Collecting libclang>=13.0.0 (from tensorflow)\n",
      "  Downloading libclang-18.1.1-py2.py3-none-win_amd64.whl.metadata (5.3 kB)\n",
      "Collecting opt-einsum>=2.3.2 (from tensorflow)\n",
      "  Downloading opt_einsum-3.4.0-py3-none-any.whl.metadata (6.3 kB)\n",
      "Requirement already satisfied: packaging in c:\\users\\deepa\\anaconda3\\lib\\site-packages (from tensorflow) (24.1)\n",
      "Requirement already satisfied: protobuf!=4.21.0,!=4.21.1,!=4.21.2,!=4.21.3,!=4.21.4,!=4.21.5,<6.0.0dev,>=3.20.3 in c:\\users\\deepa\\anaconda3\\lib\\site-packages (from tensorflow) (4.25.3)\n",
      "Requirement already satisfied: requests<3,>=2.21.0 in c:\\users\\deepa\\anaconda3\\lib\\site-packages (from tensorflow) (2.32.3)\n",
      "Requirement already satisfied: setuptools in c:\\users\\deepa\\anaconda3\\lib\\site-packages (from tensorflow) (75.1.0)\n",
      "Requirement already satisfied: six>=1.12.0 in c:\\users\\deepa\\anaconda3\\lib\\site-packages (from tensorflow) (1.16.0)\n",
      "Collecting termcolor>=1.1.0 (from tensorflow)\n",
      "  Downloading termcolor-3.1.0-py3-none-any.whl.metadata (6.4 kB)\n",
      "Requirement already satisfied: typing-extensions>=3.6.6 in c:\\users\\deepa\\anaconda3\\lib\\site-packages (from tensorflow) (4.11.0)\n",
      "Requirement already satisfied: wrapt>=1.11.0 in c:\\users\\deepa\\anaconda3\\lib\\site-packages (from tensorflow) (1.14.1)\n",
      "Collecting grpcio<2.0,>=1.24.3 (from tensorflow)\n",
      "  Downloading grpcio-1.73.0-cp312-cp312-win_amd64.whl.metadata (4.0 kB)\n",
      "Collecting tensorboard~=2.19.0 (from tensorflow)\n",
      "  Downloading tensorboard-2.19.0-py3-none-any.whl.metadata (1.8 kB)\n",
      "Collecting keras>=3.5.0 (from tensorflow)\n",
      "  Downloading keras-3.10.0-py3-none-any.whl.metadata (6.0 kB)\n",
      "Requirement already satisfied: numpy<2.2.0,>=1.26.0 in c:\\users\\deepa\\anaconda3\\lib\\site-packages (from tensorflow) (1.26.4)\n",
      "Requirement already satisfied: h5py>=3.11.0 in c:\\users\\deepa\\anaconda3\\lib\\site-packages (from tensorflow) (3.11.0)\n",
      "Collecting ml-dtypes<1.0.0,>=0.5.1 (from tensorflow)\n",
      "  Downloading ml_dtypes-0.5.1-cp312-cp312-win_amd64.whl.metadata (22 kB)\n",
      "Requirement already satisfied: wheel<1.0,>=0.23.0 in c:\\users\\deepa\\anaconda3\\lib\\site-packages (from astunparse>=1.6.0->tensorflow) (0.44.0)\n",
      "Requirement already satisfied: rich in c:\\users\\deepa\\anaconda3\\lib\\site-packages (from keras>=3.5.0->tensorflow) (13.7.1)\n",
      "Collecting namex (from keras>=3.5.0->tensorflow)\n",
      "  Downloading namex-0.1.0-py3-none-any.whl.metadata (322 bytes)\n",
      "Collecting optree (from keras>=3.5.0->tensorflow)\n",
      "  Downloading optree-0.16.0-cp312-cp312-win_amd64.whl.metadata (31 kB)\n",
      "Requirement already satisfied: charset-normalizer<4,>=2 in c:\\users\\deepa\\anaconda3\\lib\\site-packages (from requests<3,>=2.21.0->tensorflow) (3.3.2)\n",
      "Requirement already satisfied: idna<4,>=2.5 in c:\\users\\deepa\\anaconda3\\lib\\site-packages (from requests<3,>=2.21.0->tensorflow) (3.7)\n",
      "Requirement already satisfied: urllib3<3,>=1.21.1 in c:\\users\\deepa\\anaconda3\\lib\\site-packages (from requests<3,>=2.21.0->tensorflow) (2.2.3)\n",
      "Requirement already satisfied: certifi>=2017.4.17 in c:\\users\\deepa\\anaconda3\\lib\\site-packages (from requests<3,>=2.21.0->tensorflow) (2025.1.31)\n",
      "Requirement already satisfied: markdown>=2.6.8 in c:\\users\\deepa\\anaconda3\\lib\\site-packages (from tensorboard~=2.19.0->tensorflow) (3.4.1)\n",
      "Collecting tensorboard-data-server<0.8.0,>=0.7.0 (from tensorboard~=2.19.0->tensorflow)\n",
      "  Downloading tensorboard_data_server-0.7.2-py3-none-any.whl.metadata (1.1 kB)\n",
      "Requirement already satisfied: werkzeug>=1.0.1 in c:\\users\\deepa\\anaconda3\\lib\\site-packages (from tensorboard~=2.19.0->tensorflow) (3.0.3)\n",
      "Requirement already satisfied: MarkupSafe>=2.1.1 in c:\\users\\deepa\\anaconda3\\lib\\site-packages (from werkzeug>=1.0.1->tensorboard~=2.19.0->tensorflow) (2.1.3)\n",
      "Requirement already satisfied: markdown-it-py>=2.2.0 in c:\\users\\deepa\\anaconda3\\lib\\site-packages (from rich->keras>=3.5.0->tensorflow) (2.2.0)\n",
      "Requirement already satisfied: pygments<3.0.0,>=2.13.0 in c:\\users\\deepa\\anaconda3\\lib\\site-packages (from rich->keras>=3.5.0->tensorflow) (2.15.1)\n",
      "Requirement already satisfied: mdurl~=0.1 in c:\\users\\deepa\\anaconda3\\lib\\site-packages (from markdown-it-py>=2.2.0->rich->keras>=3.5.0->tensorflow) (0.1.0)\n",
      "Downloading tensorflow-2.19.0-cp312-cp312-win_amd64.whl (376.0 MB)\n",
      "   ---------------------------------------- 0.0/376.0 MB ? eta -:--:--\n",
      "   ---------------------------------------- 2.6/376.0 MB 15.1 MB/s eta 0:00:25\n",
      "    --------------------------------------- 5.2/376.0 MB 13.9 MB/s eta 0:00:27\n",
      "    --------------------------------------- 8.4/376.0 MB 14.1 MB/s eta 0:00:27\n",
      "   - -------------------------------------- 12.3/376.0 MB 15.4 MB/s eta 0:00:24\n",
      "   - -------------------------------------- 16.0/376.0 MB 16.0 MB/s eta 0:00:23\n",
      "   -- ------------------------------------- 19.9/376.0 MB 16.6 MB/s eta 0:00:22\n",
      "   -- ------------------------------------- 23.6/376.0 MB 16.8 MB/s eta 0:00:21\n",
      "   -- ------------------------------------- 27.3/376.0 MB 16.9 MB/s eta 0:00:21\n",
      "   --- ------------------------------------ 31.2/376.0 MB 17.1 MB/s eta 0:00:21\n",
      "   --- ------------------------------------ 35.4/376.0 MB 17.3 MB/s eta 0:00:20\n",
      "   ---- ----------------------------------- 39.1/376.0 MB 17.5 MB/s eta 0:00:20\n",
      "   ---- ----------------------------------- 43.0/376.0 MB 17.5 MB/s eta 0:00:19\n",
      "   ---- ----------------------------------- 46.9/376.0 MB 17.7 MB/s eta 0:00:19\n",
      "   ----- ---------------------------------- 50.9/376.0 MB 17.8 MB/s eta 0:00:19\n",
      "   ----- ---------------------------------- 54.8/376.0 MB 17.8 MB/s eta 0:00:19\n",
      "   ------ --------------------------------- 58.5/376.0 MB 17.8 MB/s eta 0:00:18\n",
      "   ------ --------------------------------- 62.1/376.0 MB 17.8 MB/s eta 0:00:18\n",
      "   ------- -------------------------------- 65.8/376.0 MB 17.9 MB/s eta 0:00:18\n",
      "   ------- -------------------------------- 69.7/376.0 MB 17.9 MB/s eta 0:00:18\n",
      "   ------- -------------------------------- 73.7/376.0 MB 17.9 MB/s eta 0:00:17\n",
      "   -------- ------------------------------- 77.6/376.0 MB 18.0 MB/s eta 0:00:17\n",
      "   -------- ------------------------------- 81.3/376.0 MB 17.9 MB/s eta 0:00:17\n",
      "   --------- ------------------------------ 85.2/376.0 MB 18.1 MB/s eta 0:00:17\n",
      "   --------- ------------------------------ 88.9/376.0 MB 18.1 MB/s eta 0:00:16\n",
      "   --------- ------------------------------ 92.3/376.0 MB 18.1 MB/s eta 0:00:16\n",
      "   ---------- ----------------------------- 96.5/376.0 MB 18.0 MB/s eta 0:00:16\n",
      "   ---------- ---------------------------- 100.4/376.0 MB 18.1 MB/s eta 0:00:16\n",
      "   ---------- ---------------------------- 104.9/376.0 MB 18.1 MB/s eta 0:00:15\n",
      "   ----------- --------------------------- 109.1/376.0 MB 18.2 MB/s eta 0:00:15\n",
      "   ----------- --------------------------- 113.2/376.0 MB 18.3 MB/s eta 0:00:15\n",
      "   ------------ -------------------------- 117.2/376.0 MB 18.3 MB/s eta 0:00:15\n",
      "   ------------ -------------------------- 121.1/376.0 MB 18.3 MB/s eta 0:00:14\n",
      "   ------------ -------------------------- 125.3/376.0 MB 18.4 MB/s eta 0:00:14\n",
      "   ------------- ------------------------- 129.5/376.0 MB 18.4 MB/s eta 0:00:14\n",
      "   ------------- ------------------------- 133.7/376.0 MB 18.4 MB/s eta 0:00:14\n",
      "   -------------- ------------------------ 137.9/376.0 MB 18.5 MB/s eta 0:00:13\n",
      "   -------------- ------------------------ 141.8/376.0 MB 18.5 MB/s eta 0:00:13\n",
      "   --------------- ----------------------- 145.8/376.0 MB 18.5 MB/s eta 0:00:13\n",
      "   --------------- ----------------------- 149.4/376.0 MB 18.5 MB/s eta 0:00:13\n",
      "   --------------- ----------------------- 154.1/376.0 MB 18.6 MB/s eta 0:00:12\n",
      "   ---------------- ---------------------- 158.3/376.0 MB 18.6 MB/s eta 0:00:12\n",
      "   ---------------- ---------------------- 162.0/376.0 MB 18.7 MB/s eta 0:00:12\n",
      "   ----------------- --------------------- 166.5/376.0 MB 18.7 MB/s eta 0:00:12\n",
      "   ----------------- --------------------- 170.1/376.0 MB 18.7 MB/s eta 0:00:11\n",
      "   ------------------ -------------------- 174.3/376.0 MB 18.7 MB/s eta 0:00:11\n",
      "   ------------------ -------------------- 179.3/376.0 MB 18.8 MB/s eta 0:00:11\n",
      "   ------------------- ------------------- 183.5/376.0 MB 18.8 MB/s eta 0:00:11\n",
      "   ------------------- ------------------- 187.7/376.0 MB 18.8 MB/s eta 0:00:11\n",
      "   ------------------- ------------------- 191.9/376.0 MB 18.8 MB/s eta 0:00:10\n",
      "   -------------------- ------------------ 196.1/376.0 MB 18.9 MB/s eta 0:00:10\n",
      "   -------------------- ------------------ 200.3/376.0 MB 18.9 MB/s eta 0:00:10\n",
      "   --------------------- ----------------- 204.5/376.0 MB 18.9 MB/s eta 0:00:10\n",
      "   --------------------- ----------------- 207.9/376.0 MB 18.9 MB/s eta 0:00:09\n",
      "   ---------------------- ---------------- 212.3/376.0 MB 18.9 MB/s eta 0:00:09\n",
      "   ---------------------- ---------------- 216.5/376.0 MB 18.9 MB/s eta 0:00:09\n",
      "   ---------------------- ---------------- 220.2/376.0 MB 18.9 MB/s eta 0:00:09\n",
      "   ----------------------- --------------- 224.4/376.0 MB 19.0 MB/s eta 0:00:08\n",
      "   ----------------------- --------------- 228.6/376.0 MB 19.0 MB/s eta 0:00:08\n",
      "   ------------------------ -------------- 232.5/376.0 MB 19.0 MB/s eta 0:00:08\n",
      "   ------------------------ -------------- 237.0/376.0 MB 19.0 MB/s eta 0:00:08\n",
      "   ------------------------ -------------- 240.9/376.0 MB 19.0 MB/s eta 0:00:08\n",
      "   ------------------------- ------------- 245.1/376.0 MB 19.1 MB/s eta 0:00:07\n",
      "   ------------------------- ------------- 249.3/376.0 MB 19.1 MB/s eta 0:00:07\n",
      "   -------------------------- ------------ 253.5/376.0 MB 19.1 MB/s eta 0:00:07\n",
      "   -------------------------- ------------ 257.4/376.0 MB 19.1 MB/s eta 0:00:07\n",
      "   --------------------------- ----------- 261.6/376.0 MB 19.1 MB/s eta 0:00:06\n",
      "   --------------------------- ----------- 265.6/376.0 MB 19.2 MB/s eta 0:00:06\n",
      "   --------------------------- ----------- 269.7/376.0 MB 19.3 MB/s eta 0:00:06\n",
      "   ---------------------------- ---------- 273.9/376.0 MB 19.4 MB/s eta 0:00:06\n",
      "   ---------------------------- ---------- 277.9/376.0 MB 19.4 MB/s eta 0:00:06\n",
      "   ----------------------------- --------- 282.3/376.0 MB 19.4 MB/s eta 0:00:05\n",
      "   ----------------------------- --------- 286.8/376.0 MB 19.4 MB/s eta 0:00:05\n",
      "   ------------------------------ -------- 291.0/376.0 MB 19.4 MB/s eta 0:00:05\n",
      "   ------------------------------ -------- 294.9/376.0 MB 19.4 MB/s eta 0:00:05\n",
      "   ------------------------------- ------- 299.4/376.0 MB 19.5 MB/s eta 0:00:04\n",
      "   ------------------------------- ------- 303.3/376.0 MB 19.5 MB/s eta 0:00:04\n",
      "   ------------------------------- ------- 307.5/376.0 MB 19.5 MB/s eta 0:00:04\n",
      "   -------------------------------- ------ 311.7/376.0 MB 19.5 MB/s eta 0:00:04\n",
      "   -------------------------------- ------ 316.1/376.0 MB 19.6 MB/s eta 0:00:04\n",
      "   --------------------------------- ----- 320.6/376.0 MB 19.6 MB/s eta 0:00:03\n",
      "   --------------------------------- ----- 325.1/376.0 MB 19.6 MB/s eta 0:00:03\n",
      "   ---------------------------------- ---- 329.3/376.0 MB 19.7 MB/s eta 0:00:03\n",
      "   ---------------------------------- ---- 333.2/376.0 MB 19.7 MB/s eta 0:00:03\n",
      "   ----------------------------------- --- 337.6/376.0 MB 19.7 MB/s eta 0:00:02\n",
      "   ----------------------------------- --- 341.6/376.0 MB 19.7 MB/s eta 0:00:02\n",
      "   ----------------------------------- --- 345.8/376.0 MB 19.7 MB/s eta 0:00:02\n",
      "   ------------------------------------ -- 348.7/376.0 MB 19.7 MB/s eta 0:00:02\n",
      "   ------------------------------------ -- 352.6/376.0 MB 19.7 MB/s eta 0:00:02\n",
      "   ------------------------------------- - 356.8/376.0 MB 19.7 MB/s eta 0:00:01\n",
      "   ------------------------------------- - 360.7/376.0 MB 19.7 MB/s eta 0:00:01\n",
      "   ------------------------------------- - 364.9/376.0 MB 19.7 MB/s eta 0:00:01\n",
      "   --------------------------------------  369.4/376.0 MB 19.8 MB/s eta 0:00:01\n",
      "   --------------------------------------  373.6/376.0 MB 19.8 MB/s eta 0:00:01\n",
      "   --------------------------------------  375.9/376.0 MB 19.8 MB/s eta 0:00:01\n",
      "   --------------------------------------  375.9/376.0 MB 19.8 MB/s eta 0:00:01\n",
      "   --------------------------------------  375.9/376.0 MB 19.8 MB/s eta 0:00:01\n",
      "   --------------------------------------  375.9/376.0 MB 19.8 MB/s eta 0:00:01\n",
      "   --------------------------------------  375.9/376.0 MB 19.8 MB/s eta 0:00:01\n",
      "   --------------------------------------- 376.0/376.0 MB 18.4 MB/s eta 0:00:00\n",
      "Downloading absl_py-2.3.0-py3-none-any.whl (135 kB)\n",
      "Downloading astunparse-1.6.3-py2.py3-none-any.whl (12 kB)\n",
      "Downloading flatbuffers-25.2.10-py2.py3-none-any.whl (30 kB)\n",
      "Downloading gast-0.6.0-py3-none-any.whl (21 kB)\n",
      "Downloading google_pasta-0.2.0-py3-none-any.whl (57 kB)\n",
      "Downloading grpcio-1.73.0-cp312-cp312-win_amd64.whl (4.3 MB)\n",
      "   ---------------------------------------- 0.0/4.3 MB ? eta -:--:--\n",
      "   ------------------------------------ --- 3.9/4.3 MB 21.3 MB/s eta 0:00:01\n",
      "   ---------------------------------------- 4.3/4.3 MB 15.3 MB/s eta 0:00:00\n",
      "Downloading keras-3.10.0-py3-none-any.whl (1.4 MB)\n",
      "   ---------------------------------------- 0.0/1.4 MB ? eta -:--:--\n",
      "   ---------------------------------------- 1.4/1.4 MB 11.9 MB/s eta 0:00:00\n",
      "Downloading libclang-18.1.1-py2.py3-none-win_amd64.whl (26.4 MB)\n",
      "   ---------------------------------------- 0.0/26.4 MB ? eta -:--:--\n",
      "   ------ --------------------------------- 4.2/26.4 MB 19.4 MB/s eta 0:00:02\n",
      "   ------------ --------------------------- 8.4/26.4 MB 20.0 MB/s eta 0:00:01\n",
      "   ------------------ --------------------- 12.3/26.4 MB 19.8 MB/s eta 0:00:01\n",
      "   ------------------------- -------------- 16.5/26.4 MB 20.0 MB/s eta 0:00:01\n",
      "   ------------------------------- -------- 20.7/26.4 MB 19.8 MB/s eta 0:00:01\n",
      "   ------------------------------------- -- 24.9/26.4 MB 20.0 MB/s eta 0:00:01\n",
      "   ---------------------------------------- 26.4/26.4 MB 18.8 MB/s eta 0:00:00\n",
      "Downloading ml_dtypes-0.5.1-cp312-cp312-win_amd64.whl (210 kB)\n",
      "Downloading opt_einsum-3.4.0-py3-none-any.whl (71 kB)\n",
      "Downloading tensorboard-2.19.0-py3-none-any.whl (5.5 MB)\n",
      "   ---------------------------------------- 0.0/5.5 MB ? eta -:--:--\n",
      "   ------------------------------ --------- 4.2/5.5 MB 20.9 MB/s eta 0:00:01\n",
      "   ---------------------------------------- 5.5/5.5 MB 16.7 MB/s eta 0:00:00\n",
      "Downloading termcolor-3.1.0-py3-none-any.whl (7.7 kB)\n",
      "Downloading tensorboard_data_server-0.7.2-py3-none-any.whl (2.4 kB)\n",
      "Downloading namex-0.1.0-py3-none-any.whl (5.9 kB)\n",
      "Downloading optree-0.16.0-cp312-cp312-win_amd64.whl (315 kB)\n",
      "Installing collected packages: namex, libclang, flatbuffers, termcolor, tensorboard-data-server, optree, opt-einsum, ml-dtypes, grpcio, google-pasta, gast, astunparse, absl-py, tensorboard, keras, tensorflow\n",
      "Successfully installed absl-py-2.3.0 astunparse-1.6.3 flatbuffers-25.2.10 gast-0.6.0 google-pasta-0.2.0 grpcio-1.73.0 keras-3.10.0 libclang-18.1.1 ml-dtypes-0.5.1 namex-0.1.0 opt-einsum-3.4.0 optree-0.16.0 tensorboard-2.19.0 tensorboard-data-server-0.7.2 tensorflow-2.19.0 termcolor-3.1.0\n"
     ]
    }
   ],
   "source": [
    "!pip install tensorflow"
   ]
  },
  {
   "cell_type": "code",
   "execution_count": 9,
   "id": "9096090c-b4e6-46d1-b15e-6d0dd00b8b4d",
   "metadata": {},
   "outputs": [],
   "source": [
    "import os\n",
    "import numpy as np\n",
    "import matplotlib.pyplot as plt\n",
    "import tensorflow as tf\n",
    "from tensorflow.keras.preprocessing.image import ImageDataGenerator\n",
    "from tensorflow.keras.models import Sequential\n",
    "from tensorflow.keras.layers import Conv2D, MaxPooling2D, Flatten, Dense, Dropout\n",
    "from sklearn.utils.class_weight import compute_class_weight"
   ]
  },
  {
   "cell_type": "code",
   "execution_count": 17,
   "id": "51329c00-ad96-4bd1-b908-e49722169e13",
   "metadata": {},
   "outputs": [
    {
     "name": "stdout",
     "output_type": "stream",
     "text": [
      "Found 601 images belonging to 2 classes.\n",
      "Found 150 images belonging to 2 classes.\n"
     ]
    }
   ],
   "source": [
    "train_dir = \"C:/Users/Deepa/OneDrive/Documents/oral_detection/Oral_Cancer_dataset\"\n",
    "img_size = (128,128)\n",
    "batch_size = 32\n",
    "datagen = ImageDataGenerator(rescale=1./255,validation_split=0.2)\n",
    "train_data = datagen.flow_from_directory(\n",
    "    train_dir,\n",
    "    target_size=img_size,\n",
    "    batch_size=batch_size,\n",
    "    class_mode='binary',\n",
    "    subset='training',\n",
    "    shuffle=True\n",
    ")\n",
    "val_data = datagen.flow_from_directory(\n",
    "    train_dir,\n",
    "    target_size=img_size,\n",
    "    batch_size=batch_size,\n",
    "    class_mode='binary',\n",
    "    subset='validation',\n",
    "    shuffle=True\n",
    ")"
   ]
  },
  {
   "cell_type": "code",
   "execution_count": 19,
   "id": "481d8083-d985-42b1-b02d-67e800ad32f9",
   "metadata": {},
   "outputs": [
    {
     "name": "stdout",
     "output_type": "stream",
     "text": [
      "Class indices: {'CANCER': 0, 'NON CANCER': 1}\n"
     ]
    }
   ],
   "source": [
    "print(\"Class indices:\",train_data.class_indices)"
   ]
  },
  {
   "cell_type": "code",
   "execution_count": 29,
   "id": "1ec90d81-93ab-4b53-96f4-4029b45d724a",
   "metadata": {},
   "outputs": [],
   "source": [
    "class_weights = compute_class_weight(\n",
    "    class_weight = \"balanced\",\n",
    "    classes = np.unique(train_data.classes),\n",
    "    y = train_data.classes\n",
    ")\n",
    "class_weights = dict(enumerate(class_weights))"
   ]
  },
  {
   "cell_type": "code",
   "execution_count": 33,
   "id": "c78f52af-3ba9-4824-96be-289c8ba29f02",
   "metadata": {},
   "outputs": [
    {
     "name": "stderr",
     "output_type": "stream",
     "text": [
      "C:\\Users\\Deepa\\anaconda3\\Lib\\site-packages\\keras\\src\\layers\\convolutional\\base_conv.py:113: UserWarning: Do not pass an `input_shape`/`input_dim` argument to a layer. When using Sequential models, prefer using an `Input(shape)` object as the first layer in the model instead.\n",
      "  super().__init__(activity_regularizer=activity_regularizer, **kwargs)\n"
     ]
    },
    {
     "data": {
      "text/html": [
       "<pre style=\"white-space:pre;overflow-x:auto;line-height:normal;font-family:Menlo,'DejaVu Sans Mono',consolas,'Courier New',monospace\"><span style=\"font-weight: bold\">Model: \"sequential\"</span>\n",
       "</pre>\n"
      ],
      "text/plain": [
       "\u001b[1mModel: \"sequential\"\u001b[0m\n"
      ]
     },
     "metadata": {},
     "output_type": "display_data"
    },
    {
     "data": {
      "text/html": [
       "<pre style=\"white-space:pre;overflow-x:auto;line-height:normal;font-family:Menlo,'DejaVu Sans Mono',consolas,'Courier New',monospace\">┏━━━━━━━━━━━━━━━━━━━━━━━━━━━━━━━━━┳━━━━━━━━━━━━━━━━━━━━━━━━┳━━━━━━━━━━━━━━━┓\n",
       "┃<span style=\"font-weight: bold\"> Layer (type)                    </span>┃<span style=\"font-weight: bold\"> Output Shape           </span>┃<span style=\"font-weight: bold\">       Param # </span>┃\n",
       "┡━━━━━━━━━━━━━━━━━━━━━━━━━━━━━━━━━╇━━━━━━━━━━━━━━━━━━━━━━━━╇━━━━━━━━━━━━━━━┩\n",
       "│ conv2d (<span style=\"color: #0087ff; text-decoration-color: #0087ff\">Conv2D</span>)                 │ (<span style=\"color: #00d7ff; text-decoration-color: #00d7ff\">None</span>, <span style=\"color: #00af00; text-decoration-color: #00af00\">126</span>, <span style=\"color: #00af00; text-decoration-color: #00af00\">126</span>, <span style=\"color: #00af00; text-decoration-color: #00af00\">32</span>)   │           <span style=\"color: #00af00; text-decoration-color: #00af00\">896</span> │\n",
       "├─────────────────────────────────┼────────────────────────┼───────────────┤\n",
       "│ max_pooling2d (<span style=\"color: #0087ff; text-decoration-color: #0087ff\">MaxPooling2D</span>)    │ (<span style=\"color: #00d7ff; text-decoration-color: #00d7ff\">None</span>, <span style=\"color: #00af00; text-decoration-color: #00af00\">63</span>, <span style=\"color: #00af00; text-decoration-color: #00af00\">63</span>, <span style=\"color: #00af00; text-decoration-color: #00af00\">32</span>)     │             <span style=\"color: #00af00; text-decoration-color: #00af00\">0</span> │\n",
       "├─────────────────────────────────┼────────────────────────┼───────────────┤\n",
       "│ conv2d_1 (<span style=\"color: #0087ff; text-decoration-color: #0087ff\">Conv2D</span>)               │ (<span style=\"color: #00d7ff; text-decoration-color: #00d7ff\">None</span>, <span style=\"color: #00af00; text-decoration-color: #00af00\">61</span>, <span style=\"color: #00af00; text-decoration-color: #00af00\">61</span>, <span style=\"color: #00af00; text-decoration-color: #00af00\">64</span>)     │        <span style=\"color: #00af00; text-decoration-color: #00af00\">18,496</span> │\n",
       "├─────────────────────────────────┼────────────────────────┼───────────────┤\n",
       "│ max_pooling2d_1 (<span style=\"color: #0087ff; text-decoration-color: #0087ff\">MaxPooling2D</span>)  │ (<span style=\"color: #00d7ff; text-decoration-color: #00d7ff\">None</span>, <span style=\"color: #00af00; text-decoration-color: #00af00\">30</span>, <span style=\"color: #00af00; text-decoration-color: #00af00\">30</span>, <span style=\"color: #00af00; text-decoration-color: #00af00\">64</span>)     │             <span style=\"color: #00af00; text-decoration-color: #00af00\">0</span> │\n",
       "├─────────────────────────────────┼────────────────────────┼───────────────┤\n",
       "│ flatten (<span style=\"color: #0087ff; text-decoration-color: #0087ff\">Flatten</span>)               │ (<span style=\"color: #00d7ff; text-decoration-color: #00d7ff\">None</span>, <span style=\"color: #00af00; text-decoration-color: #00af00\">57600</span>)          │             <span style=\"color: #00af00; text-decoration-color: #00af00\">0</span> │\n",
       "├─────────────────────────────────┼────────────────────────┼───────────────┤\n",
       "│ dense (<span style=\"color: #0087ff; text-decoration-color: #0087ff\">Dense</span>)                   │ (<span style=\"color: #00d7ff; text-decoration-color: #00d7ff\">None</span>, <span style=\"color: #00af00; text-decoration-color: #00af00\">128</span>)            │     <span style=\"color: #00af00; text-decoration-color: #00af00\">7,372,928</span> │\n",
       "├─────────────────────────────────┼────────────────────────┼───────────────┤\n",
       "│ dropout (<span style=\"color: #0087ff; text-decoration-color: #0087ff\">Dropout</span>)               │ (<span style=\"color: #00d7ff; text-decoration-color: #00d7ff\">None</span>, <span style=\"color: #00af00; text-decoration-color: #00af00\">128</span>)            │             <span style=\"color: #00af00; text-decoration-color: #00af00\">0</span> │\n",
       "├─────────────────────────────────┼────────────────────────┼───────────────┤\n",
       "│ dense_1 (<span style=\"color: #0087ff; text-decoration-color: #0087ff\">Dense</span>)                 │ (<span style=\"color: #00d7ff; text-decoration-color: #00d7ff\">None</span>, <span style=\"color: #00af00; text-decoration-color: #00af00\">1</span>)              │           <span style=\"color: #00af00; text-decoration-color: #00af00\">129</span> │\n",
       "└─────────────────────────────────┴────────────────────────┴───────────────┘\n",
       "</pre>\n"
      ],
      "text/plain": [
       "┏━━━━━━━━━━━━━━━━━━━━━━━━━━━━━━━━━┳━━━━━━━━━━━━━━━━━━━━━━━━┳━━━━━━━━━━━━━━━┓\n",
       "┃\u001b[1m \u001b[0m\u001b[1mLayer (type)                   \u001b[0m\u001b[1m \u001b[0m┃\u001b[1m \u001b[0m\u001b[1mOutput Shape          \u001b[0m\u001b[1m \u001b[0m┃\u001b[1m \u001b[0m\u001b[1m      Param #\u001b[0m\u001b[1m \u001b[0m┃\n",
       "┡━━━━━━━━━━━━━━━━━━━━━━━━━━━━━━━━━╇━━━━━━━━━━━━━━━━━━━━━━━━╇━━━━━━━━━━━━━━━┩\n",
       "│ conv2d (\u001b[38;5;33mConv2D\u001b[0m)                 │ (\u001b[38;5;45mNone\u001b[0m, \u001b[38;5;34m126\u001b[0m, \u001b[38;5;34m126\u001b[0m, \u001b[38;5;34m32\u001b[0m)   │           \u001b[38;5;34m896\u001b[0m │\n",
       "├─────────────────────────────────┼────────────────────────┼───────────────┤\n",
       "│ max_pooling2d (\u001b[38;5;33mMaxPooling2D\u001b[0m)    │ (\u001b[38;5;45mNone\u001b[0m, \u001b[38;5;34m63\u001b[0m, \u001b[38;5;34m63\u001b[0m, \u001b[38;5;34m32\u001b[0m)     │             \u001b[38;5;34m0\u001b[0m │\n",
       "├─────────────────────────────────┼────────────────────────┼───────────────┤\n",
       "│ conv2d_1 (\u001b[38;5;33mConv2D\u001b[0m)               │ (\u001b[38;5;45mNone\u001b[0m, \u001b[38;5;34m61\u001b[0m, \u001b[38;5;34m61\u001b[0m, \u001b[38;5;34m64\u001b[0m)     │        \u001b[38;5;34m18,496\u001b[0m │\n",
       "├─────────────────────────────────┼────────────────────────┼───────────────┤\n",
       "│ max_pooling2d_1 (\u001b[38;5;33mMaxPooling2D\u001b[0m)  │ (\u001b[38;5;45mNone\u001b[0m, \u001b[38;5;34m30\u001b[0m, \u001b[38;5;34m30\u001b[0m, \u001b[38;5;34m64\u001b[0m)     │             \u001b[38;5;34m0\u001b[0m │\n",
       "├─────────────────────────────────┼────────────────────────┼───────────────┤\n",
       "│ flatten (\u001b[38;5;33mFlatten\u001b[0m)               │ (\u001b[38;5;45mNone\u001b[0m, \u001b[38;5;34m57600\u001b[0m)          │             \u001b[38;5;34m0\u001b[0m │\n",
       "├─────────────────────────────────┼────────────────────────┼───────────────┤\n",
       "│ dense (\u001b[38;5;33mDense\u001b[0m)                   │ (\u001b[38;5;45mNone\u001b[0m, \u001b[38;5;34m128\u001b[0m)            │     \u001b[38;5;34m7,372,928\u001b[0m │\n",
       "├─────────────────────────────────┼────────────────────────┼───────────────┤\n",
       "│ dropout (\u001b[38;5;33mDropout\u001b[0m)               │ (\u001b[38;5;45mNone\u001b[0m, \u001b[38;5;34m128\u001b[0m)            │             \u001b[38;5;34m0\u001b[0m │\n",
       "├─────────────────────────────────┼────────────────────────┼───────────────┤\n",
       "│ dense_1 (\u001b[38;5;33mDense\u001b[0m)                 │ (\u001b[38;5;45mNone\u001b[0m, \u001b[38;5;34m1\u001b[0m)              │           \u001b[38;5;34m129\u001b[0m │\n",
       "└─────────────────────────────────┴────────────────────────┴───────────────┘\n"
      ]
     },
     "metadata": {},
     "output_type": "display_data"
    },
    {
     "data": {
      "text/html": [
       "<pre style=\"white-space:pre;overflow-x:auto;line-height:normal;font-family:Menlo,'DejaVu Sans Mono',consolas,'Courier New',monospace\"><span style=\"font-weight: bold\"> Total params: </span><span style=\"color: #00af00; text-decoration-color: #00af00\">7,392,449</span> (28.20 MB)\n",
       "</pre>\n"
      ],
      "text/plain": [
       "\u001b[1m Total params: \u001b[0m\u001b[38;5;34m7,392,449\u001b[0m (28.20 MB)\n"
      ]
     },
     "metadata": {},
     "output_type": "display_data"
    },
    {
     "data": {
      "text/html": [
       "<pre style=\"white-space:pre;overflow-x:auto;line-height:normal;font-family:Menlo,'DejaVu Sans Mono',consolas,'Courier New',monospace\"><span style=\"font-weight: bold\"> Trainable params: </span><span style=\"color: #00af00; text-decoration-color: #00af00\">7,392,449</span> (28.20 MB)\n",
       "</pre>\n"
      ],
      "text/plain": [
       "\u001b[1m Trainable params: \u001b[0m\u001b[38;5;34m7,392,449\u001b[0m (28.20 MB)\n"
      ]
     },
     "metadata": {},
     "output_type": "display_data"
    },
    {
     "data": {
      "text/html": [
       "<pre style=\"white-space:pre;overflow-x:auto;line-height:normal;font-family:Menlo,'DejaVu Sans Mono',consolas,'Courier New',monospace\"><span style=\"font-weight: bold\"> Non-trainable params: </span><span style=\"color: #00af00; text-decoration-color: #00af00\">0</span> (0.00 B)\n",
       "</pre>\n"
      ],
      "text/plain": [
       "\u001b[1m Non-trainable params: \u001b[0m\u001b[38;5;34m0\u001b[0m (0.00 B)\n"
      ]
     },
     "metadata": {},
     "output_type": "display_data"
    }
   ],
   "source": [
    "model = Sequential([\n",
    "    Conv2D(32,(3,3), activation='relu', input_shape=(128,128,3)),\n",
    "    MaxPooling2D(2,2),\n",
    "    Conv2D(64,(3,3), activation='relu'),\n",
    "    MaxPooling2D(2,2),\n",
    "    Flatten(),\n",
    "    Dense(128,activation='relu'),\n",
    "    Dropout(0.5),\n",
    "    Dense(1,activation='sigmoid')\n",
    "])\n",
    "\n",
    "model.compile(optimizer='adam',loss='binary_crossentropy',metrics=['accuracy'])\n",
    "model.summary()"
   ]
  },
  {
   "cell_type": "code",
   "execution_count": 37,
   "id": "6b52818e-d908-4b0d-b1bf-f706604e5d8a",
   "metadata": {},
   "outputs": [
    {
     "name": "stderr",
     "output_type": "stream",
     "text": [
      "C:\\Users\\Deepa\\anaconda3\\Lib\\site-packages\\keras\\src\\trainers\\data_adapters\\py_dataset_adapter.py:121: UserWarning: Your `PyDataset` class should call `super().__init__(**kwargs)` in its constructor. `**kwargs` can include `workers`, `use_multiprocessing`, `max_queue_size`. Do not pass these arguments to `fit()`, as they will be ignored.\n",
      "  self._warn_if_super_not_called()\n"
     ]
    },
    {
     "name": "stdout",
     "output_type": "stream",
     "text": [
      "Epoch 1/10\n",
      "\u001b[1m18/19\u001b[0m \u001b[32m━━━━━━━━━━━━━━━━━━\u001b[0m\u001b[37m━━\u001b[0m \u001b[1m1s\u001b[0m 1s/step - accuracy: 0.4502 - loss: 2.5764"
     ]
    },
    {
     "name": "stderr",
     "output_type": "stream",
     "text": [
      "C:\\Users\\Deepa\\anaconda3\\Lib\\site-packages\\PIL\\Image.py:1056: UserWarning: Palette images with Transparency expressed in bytes should be converted to RGBA images\n",
      "  warnings.warn(\n"
     ]
    },
    {
     "name": "stdout",
     "output_type": "stream",
     "text": [
      "\u001b[1m19/19\u001b[0m \u001b[32m━━━━━━━━━━━━━━━━━━━━\u001b[0m\u001b[37m\u001b[0m \u001b[1m36s\u001b[0m 2s/step - accuracy: 0.4503 - loss: 2.4666 - val_accuracy: 0.6933 - val_loss: 0.6696\n",
      "Epoch 2/10\n",
      "\u001b[1m19/19\u001b[0m \u001b[32m━━━━━━━━━━━━━━━━━━━━\u001b[0m\u001b[37m\u001b[0m \u001b[1m21s\u001b[0m 1s/step - accuracy: 0.6926 - loss: 0.6659 - val_accuracy: 0.6333 - val_loss: 0.6531\n",
      "Epoch 3/10\n",
      "\u001b[1m19/19\u001b[0m \u001b[32m━━━━━━━━━━━━━━━━━━━━\u001b[0m\u001b[37m\u001b[0m \u001b[1m19s\u001b[0m 1000ms/step - accuracy: 0.7116 - loss: 0.5701 - val_accuracy: 0.7467 - val_loss: 0.5439\n",
      "Epoch 4/10\n",
      "\u001b[1m19/19\u001b[0m \u001b[32m━━━━━━━━━━━━━━━━━━━━\u001b[0m\u001b[37m\u001b[0m \u001b[1m20s\u001b[0m 1s/step - accuracy: 0.7886 - loss: 0.4871 - val_accuracy: 0.7133 - val_loss: 0.5941\n",
      "Epoch 5/10\n",
      "\u001b[1m19/19\u001b[0m \u001b[32m━━━━━━━━━━━━━━━━━━━━\u001b[0m\u001b[37m\u001b[0m \u001b[1m20s\u001b[0m 997ms/step - accuracy: 0.8253 - loss: 0.3966 - val_accuracy: 0.7600 - val_loss: 0.5340\n",
      "Epoch 6/10\n",
      "\u001b[1m19/19\u001b[0m \u001b[32m━━━━━━━━━━━━━━━━━━━━\u001b[0m\u001b[37m\u001b[0m \u001b[1m21s\u001b[0m 1s/step - accuracy: 0.8654 - loss: 0.3551 - val_accuracy: 0.7267 - val_loss: 0.5388\n",
      "Epoch 7/10\n",
      "\u001b[1m19/19\u001b[0m \u001b[32m━━━━━━━━━━━━━━━━━━━━\u001b[0m\u001b[37m\u001b[0m \u001b[1m21s\u001b[0m 1s/step - accuracy: 0.8981 - loss: 0.2815 - val_accuracy: 0.7667 - val_loss: 0.5342\n",
      "Epoch 8/10\n",
      "\u001b[1m19/19\u001b[0m \u001b[32m━━━━━━━━━━━━━━━━━━━━\u001b[0m\u001b[37m\u001b[0m \u001b[1m21s\u001b[0m 1s/step - accuracy: 0.8891 - loss: 0.2832 - val_accuracy: 0.7600 - val_loss: 0.5887\n",
      "Epoch 9/10\n",
      "\u001b[1m19/19\u001b[0m \u001b[32m━━━━━━━━━━━━━━━━━━━━\u001b[0m\u001b[37m\u001b[0m \u001b[1m22s\u001b[0m 1s/step - accuracy: 0.9433 - loss: 0.1864 - val_accuracy: 0.8267 - val_loss: 0.5094\n",
      "Epoch 10/10\n",
      "\u001b[1m19/19\u001b[0m \u001b[32m━━━━━━━━━━━━━━━━━━━━\u001b[0m\u001b[37m\u001b[0m \u001b[1m21s\u001b[0m 1s/step - accuracy: 0.9473 - loss: 0.1757 - val_accuracy: 0.7733 - val_loss: 0.5366\n"
     ]
    }
   ],
   "source": [
    "history = model.fit(\n",
    "    train_data,\n",
    "    validation_data=val_data,\n",
    "    epochs=10,\n",
    "    class_weight=class_weights\n",
    ")"
   ]
  },
  {
   "cell_type": "code",
   "execution_count": 41,
   "id": "0d37c180-ab5f-4377-8a0a-de5633d19321",
   "metadata": {},
   "outputs": [
    {
     "name": "stderr",
     "output_type": "stream",
     "text": [
      "WARNING:absl:You are saving your model as an HDF5 file via `model.save()` or `keras.saving.save_model(model)`. This file format is considered legacy. We recommend using instead the native Keras format, e.g. `model.save('my_model.keras')` or `keras.saving.save_model(model, 'my_model.keras')`. \n"
     ]
    }
   ],
   "source": [
    "model.save('oral_cancer_cnn.h5')"
   ]
  },
  {
   "cell_type": "code",
   "execution_count": null,
   "id": "7efe9724-990d-4cd8-9994-0a3bf2999472",
   "metadata": {},
   "outputs": [],
   "source": []
  }
 ],
 "metadata": {
  "kernelspec": {
   "display_name": "Python [conda env:base] *",
   "language": "python",
   "name": "conda-base-py"
  },
  "language_info": {
   "codemirror_mode": {
    "name": "ipython",
    "version": 3
   },
   "file_extension": ".py",
   "mimetype": "text/x-python",
   "name": "python",
   "nbconvert_exporter": "python",
   "pygments_lexer": "ipython3",
   "version": "3.12.7"
  }
 },
 "nbformat": 4,
 "nbformat_minor": 5
}
